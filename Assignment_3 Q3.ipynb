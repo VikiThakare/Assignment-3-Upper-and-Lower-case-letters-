{
 "cells": [
  {
   "cell_type": "markdown",
   "id": "bea4bd72",
   "metadata": {},
   "source": [
    "# Write a Python function that accepts a string and calculate the number of upper case letters and lower case letters."
   ]
  },
  {
   "cell_type": "code",
   "execution_count": 1,
   "id": "f7a80faa",
   "metadata": {},
   "outputs": [
    {
     "name": "stdout",
     "output_type": "stream",
     "text": [
      "Enter a string: The quick Brow Fox\n",
      "Uppercase count: 3\n",
      "Lowercase count: 12\n"
     ]
    }
   ],
   "source": [
    "def count_upper_lower_letters(input_string):\n",
    "    upper_count = 0\n",
    "    lower_count = 0\n",
    "\n",
    "    for char in input_string:\n",
    "        if char.isupper():\n",
    "            upper_count += 1\n",
    "        elif char.islower():\n",
    "            lower_count += 1\n",
    "\n",
    "    return upper_count, lower_count\n",
    "\n",
    "input_str = input('Enter a string: ')\n",
    "upper_count, lower_count = count_upper_lower_letters(input_str)\n",
    "print(\"Uppercase count:\", upper_count)\n",
    "print(\"Lowercase count:\", lower_count)"
   ]
  },
  {
   "cell_type": "code",
   "execution_count": null,
   "id": "f26d3636",
   "metadata": {},
   "outputs": [],
   "source": []
  }
 ],
 "metadata": {
  "kernelspec": {
   "display_name": "Python 3 (ipykernel)",
   "language": "python",
   "name": "python3"
  },
  "language_info": {
   "codemirror_mode": {
    "name": "ipython",
    "version": 3
   },
   "file_extension": ".py",
   "mimetype": "text/x-python",
   "name": "python",
   "nbconvert_exporter": "python",
   "pygments_lexer": "ipython3",
   "version": "3.10.9"
  }
 },
 "nbformat": 4,
 "nbformat_minor": 5
}
